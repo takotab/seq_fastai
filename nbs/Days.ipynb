{
 "cells": [
  {
   "cell_type": "code",
   "execution_count": null,
   "metadata": {},
   "outputs": [],
   "source": [
    "# default_exp days\n",
    "import sys\n",
    "sys.path.append('..')"
   ]
  },
  {
   "cell_type": "code",
   "execution_count": null,
   "metadata": {},
   "outputs": [
    {
     "name": "stderr",
     "output_type": "stream",
     "text": [
      "/home/tako/devtools/fastai_dev/env/lib/python3.7/site-packages/pandas/compat/__init__.py:85: UserWarning: Could not import the lzma module. Your installed Python is incomplete. Attempting to use lzma compression will result in a RuntimeError.\n",
      "  warnings.warn(msg)\n"
     ]
    }
   ],
   "source": [
    "from seq_fastai.core import *\n",
    "from seq_fastai.imports import *\n",
    "from seq_fastai.torch_imports import *"
   ]
  },
  {
   "cell_type": "code",
   "execution_count": null,
   "metadata": {},
   "outputs": [],
   "source": [
    "import fastai2"
   ]
  },
  {
   "cell_type": "code",
   "execution_count": null,
   "metadata": {},
   "outputs": [],
   "source": [
    "from fastai2.test import *\n",
    "from fastai2.core import *\n",
    "from fastai2.layers import *\n",
    "from fastai2.data.all import *\n",
    "from fastai2.optimizer import *\n",
    "from fastai2.learner import *\n",
    "from fastai2.metrics import *\n",
    "from fastai2.text.core import *\n",
    "from fastai2.text.data import *\n",
    "from fastai2.text.models.core import *\n",
    "from fastai2.text.models.awdlstm import *\n",
    "from fastai2.callback.rnn import *\n",
    "from fastai2.callback.all import *"
   ]
  },
  {
   "cell_type": "code",
   "execution_count": null,
   "metadata": {},
   "outputs": [],
   "source": [
    "# export\n",
    "class BaseDays(pd.DataFrame):\n",
    "    def __init__(self, data, y_names, cat_var=None, con_var=None, cats={}, **kw):\n",
    "        super(BaseDays, self).__init__(data, **kw)\n",
    "\n",
    "        with warnings.catch_warnings():\n",
    "            warnings.simplefilter(\"ignore\")\n",
    "            self.con_var, self.y_names = L(con_var), L(y_names)\n",
    "            self.set_index(\"datetime\", drop=False, inplace=True)\n",
    "\n",
    "            self.cols = [\"datetime\"] + self.con_var\n",
    "            self.cat_var = L(ifnone(cat_var, cats.keys()))\n",
    "            self.cats = cats\n",
    "\n",
    "        if cats == {}:\n",
    "            for cat_var in self.cat_var:\n",
    "                self.cats[cat_var] = self[cat_var].iloc[0]\n",
    "        else:\n",
    "            for k, v in cats.items():\n",
    "                self.loc[:, k] = v\n",
    "        for c in self.cols + self.y_names:\n",
    "            if c not in self.columns:\n",
    "                print(f\"Warning {c} not in {self.columns} of {self.__class__}\")\n",
    "\n",
    "    def copy(self):\n",
    "        # https://stackoverflow.com/questions/17591104/in-pandas-can-i-deeply-copy-a-dataframe-including-its-index-and-column\n",
    "        #         print('copy made ',self.__class__)\n",
    "        return self.__class__(\n",
    "            pd.DataFrame(self.values.copy(), self.index.copy(), self.columns.copy()),\n",
    "            self.y_names.copy(),\n",
    "            self.cat_var.copy(),\n",
    "            self.con_var.copy(),\n",
    "        )\n"
   ]
  },
  {
   "cell_type": "code",
   "execution_count": null,
   "metadata": {},
   "outputs": [],
   "source": [
    "bd = BaseDays(pd.DataFrame({'datetime':[pd.Timestamp('2019-01-01')+x*pd.Timedelta('1H') for x in range(72)],\n",
    "                     'target':np.arange(72),\n",
    "                     'quater':np.arange(72)/4}),\n",
    "         'target',\n",
    "         con_var='quater'\n",
    "        )\n",
    "test_eq(bd.cats,{})\n",
    "test_eq(bd.con_var,['quater'])\n",
    "\n",
    "_bd = bd.copy()\n",
    "_bd['half'] = _bd['quater']*2\n",
    "del _bd['quater']\n",
    "_bd.con_var=L('half')\n",
    "test_eq(bd['quater'],np.arange(72)/4)\n"
   ]
  },
  {
   "cell_type": "code",
   "execution_count": null,
   "metadata": {},
   "outputs": [],
   "source": [
    "bd = BaseDays(pd.DataFrame({'datetime':[pd.Timestamp('2019-01-01')+x*pd.Timedelta('1H') for x in range(72)],\n",
    "                     'target':np.arange(72),\n",
    "                     'one':[1]*72}),\n",
    "         'target',\n",
    "         cat_var='one'\n",
    "        )\n",
    "test_eq(bd.cats,{'one':1})\n",
    "test_eq(bd.cat_var,['one'])\n",
    "\n",
    "bd = BaseDays(pd.DataFrame({'datetime':[pd.Timestamp('2019-01-01')+x*pd.Timedelta('1H') for x in range(72)],\n",
    "                     'target':np.arange(72)}),\n",
    "         'target',\n",
    "         cats={'one':1}\n",
    "        )\n",
    "test_eq(bd.cats, {'one':1})\n",
    "test_eq(bd.cat_var, ['one'])\n"
   ]
  },
  {
   "cell_type": "code",
   "execution_count": null,
   "metadata": {},
   "outputs": [],
   "source": [
    "# export\n",
    "class Days(BaseDays):\n",
    "    def show(self, plot=True, **kwargs):\n",
    "\n",
    "        title = f\"{self.cats}  from {str(min(self.df.loc[:,'datetime']))} to {str(max(self.df.loc[:,'datetime']))} #{self.df.shape[0]}\"\n",
    "        print(self.df.columns)\n",
    "        if plot:\n",
    "            plot_days(\n",
    "                self.df,\n",
    "                left=self.con_var,\n",
    "                right=self.y_names + [\"pred\"],\n",
    "                title=title,\n",
    "                **kwargs,\n",
    "            )\n",
    "        else:\n",
    "            return title + \"\\n\" + str(self.df.head(1))\n",
    "\n",
    "    @classmethod\n",
    "    def from_ndays(cls, nday):\n",
    "        cats = {} if not hasattr(nday, \"cats\") else nday.cats\n",
    "        return cls(nday.df, nday.y_names, nday.cat_var, nday.con_var, cats=cats)\n"
   ]
  },
  {
   "cell_type": "code",
   "execution_count": null,
   "metadata": {},
   "outputs": [],
   "source": [
    "# export\n",
    "class NotDays(BaseDays):\n",
    "    @classmethod\n",
    "    def from_days(cls, day):\n",
    "        cats = {} if not hasattr(day, \"cats\") else day.cats\n",
    "        return cls(day.df, day.y_names, day.cat_var, day.con_var, cats=cats)\n"
   ]
  },
  {
   "cell_type": "code",
   "execution_count": null,
   "metadata": {},
   "outputs": [
    {
     "name": "stdout",
     "output_type": "stream",
     "text": [
      "Converted 00_core.ipynb.\n",
      "Converted 00_torch_core.ipynb.\n",
      "Converted Days.ipynb.\n",
      "Converted v2_seq_seq-realdata.ipynb.\n"
     ]
    }
   ],
   "source": [
    "#hide\n",
    "from nbdev.export import notebook2script\n",
    "notebook2script()"
   ]
  },
  {
   "cell_type": "code",
   "execution_count": null,
   "metadata": {},
   "outputs": [],
   "source": []
  }
 ],
 "metadata": {
  "kernelspec": {
   "display_name": "fastaiv2",
   "language": "python",
   "name": "fastaiv2"
  }
 },
 "nbformat": 4,
 "nbformat_minor": 4
}

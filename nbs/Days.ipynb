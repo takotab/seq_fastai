{
 "cells": [
  {
   "cell_type": "code",
   "execution_count": null,
   "metadata": {},
   "outputs": [],
   "source": [
    "# default_exp days\n",
    "# export\n",
    "import sys\n",
    "sys.path.append('..')"
   ]
  },
  {
   "cell_type": "code",
   "execution_count": null,
   "metadata": {},
   "outputs": [],
   "source": [
    "#export\n",
    "from seq_fastai.core import *\n",
    "from seq_fastai.imports import *\n",
    "from seq_fastai.torch_imports import *"
   ]
  },
  {
   "cell_type": "code",
   "execution_count": null,
   "metadata": {},
   "outputs": [],
   "source": [
    "#export\n",
    "from fastai2 import fastai2"
   ]
  },
  {
   "cell_type": "code",
   "execution_count": null,
   "metadata": {},
   "outputs": [],
   "source": [
    "# export\n",
    "class BaseDays(pd.DataFrame):\n",
    "    def __init__(self, data, y_names, cat_var=None, con_var=None, cats={}, **kw):\n",
    "        super(BaseDays, self).__init__(data, **kw)\n",
    "\n",
    "        with warnings.catch_warnings():\n",
    "            warnings.simplefilter(\"ignore\")\n",
    "            self.con_var, self.y_names = L(con_var), L(y_names)\n",
    "            self.set_index(\"datetime\", drop=False, inplace=True)\n",
    "\n",
    "            self.cols = [\"datetime\"] + self.con_var\n",
    "            self.cat_var = L(ifnone(cat_var, cats.keys()))\n",
    "            self.cats =    cats\n",
    "\n",
    "        if cats == {}:\n",
    "            for cat_var in self.cat_var:\n",
    "                self.cats[cat_var] = self[cat_var].iloc[0]\n",
    "        else:\n",
    "            for k, v in cats.items():\n",
    "                self.loc[:, k] = v\n",
    "        for c in self.cols + self.y_names:\n",
    "            if c not in self.columns:\n",
    "                print(f\"Warning {c} not in {self.columns} of {self.__class__}\")\n",
    "\n",
    "    def copy(self):\n",
    "        # https://stackoverflow.com/questions/17591104/in-pandas-can-i-deeply-copy-a-dataframe-including-its-index-and-column\n",
    "        #         print('copy made ',self.__class__)\n",
    "        return self.__class__(\n",
    "            pd.DataFrame(self.values.copy(), self.index.copy(), self.columns.copy()),\n",
    "            self.y_names.copy(),\n",
    "            self.cat_var.copy(),\n",
    "            self.con_var.copy(),\n",
    "        )\n"
   ]
  },
  {
   "cell_type": "code",
   "execution_count": null,
   "metadata": {},
   "outputs": [],
   "source": [
    "bd = BaseDays(pd.DataFrame({'datetime':[pd.Timestamp('2019-01-01')+x*pd.Timedelta('1H') for x in range(72)],\n",
    "                     'target':np.arange(72),\n",
    "                     'quater':np.arange(72)/4}),\n",
    "         'target',\n",
    "         con_var='quater'\n",
    "        )\n",
    "test_eq(bd.cats,{})\n",
    "test_eq(bd.con_var,['quater'])\n",
    "\n",
    "_bd = bd.copy()\n",
    "_bd['half'] = _bd['quater']*2\n",
    "del _bd['quater']\n",
    "_bd.con_var=L('half')\n",
    "test_eq(bd['quater'],np.arange(72)/4)\n"
   ]
  },
  {
   "cell_type": "code",
   "execution_count": null,
   "metadata": {},
   "outputs": [],
   "source": [
    "bd = BaseDays(pd.DataFrame({'datetime':[pd.Timestamp('2019-01-01')+x*pd.Timedelta('1H') for x in range(72)],\n",
    "                     'target':np.arange(72),\n",
    "                     'one':[1]*72}),\n",
    "         'target',\n",
    "         cat_var='one'\n",
    "        )\n",
    "test_eq(bd.cats,{'one':1})\n",
    "test_eq(bd.cat_var,['one'])\n",
    "\n",
    "bd = BaseDays(pd.DataFrame({'datetime':[pd.Timestamp('2019-01-01')+x*pd.Timedelta('1H') for x in range(72)],\n",
    "                     'target':np.arange(72)}),\n",
    "         'target',\n",
    "         cats={'one':1}\n",
    "        )\n",
    "test_eq(bd.cats, {'one':1})\n",
    "test_eq(bd.cat_var, ['one'])\n"
   ]
  },
  {
   "cell_type": "code",
   "execution_count": null,
   "metadata": {},
   "outputs": [],
   "source": [
    "# export\n",
    "class Days(BaseDays):\n",
    "    def show(self, plot=True, **kwargs):\n",
    "\n",
    "        title = f\"{self.cats}  from {str(min(self.df.loc[:,'datetime']))} to {str(max(self.df.loc[:,'datetime']))} #{self.df.shape[0]}\"\n",
    "        print(self.df.columns)\n",
    "        if plot:\n",
    "            plot_days(\n",
    "                self.df,\n",
    "                left=self.con_var,\n",
    "                right=self.y_names + [\"pred\"],\n",
    "                title=title,\n",
    "                **kwargs,\n",
    "            )\n",
    "        else:\n",
    "            return title + \"\\n\" + str(self.df.head(1))\n",
    "\n",
    "    @classmethod\n",
    "    def from_ndays(cls, nday):\n",
    "        cats = {} if not hasattr(nday, \"cats\") else nday.cats\n",
    "        return cls(nday, nday.y_names, nday.cat_var, nday.con_var, cats=cats)\n"
   ]
  },
  {
   "cell_type": "code",
   "execution_count": null,
   "metadata": {},
   "outputs": [],
   "source": [
    "# TODO add tests"
   ]
  },
  {
   "cell_type": "code",
   "execution_count": null,
   "metadata": {},
   "outputs": [],
   "source": [
    "# export\n",
    "class NotDays(BaseDays):\n",
    "    @classmethod\n",
    "    def from_days(cls, day):\n",
    "        cats = {} if not hasattr(day, \"cats\") else day.cats\n",
    "        return cls(day, day.y_names, day.cat_var, day.con_var, cats=cats)\n"
   ]
  },
  {
   "cell_type": "code",
   "execution_count": null,
   "metadata": {},
   "outputs": [],
   "source": [
    "# TODO add tests"
   ]
  },
  {
   "cell_type": "code",
   "execution_count": null,
   "metadata": {},
   "outputs": [],
   "source": [
    "# export\n",
    "def plot_days(data, ax=None, left=None, right=None, figsize = None, title=None, spacing=.1,  **kwargs):\n",
    "    from pandas import plotting\n",
    "    figsize = ifnone(figsize,(5,5))\n",
    "    if ax is None: _,ax = plt.subplots(figsize=figsize)           \n",
    "    colors = getattr(getattr(plotting, '_matplotlib').style, '_get_standard_colors')(num_colors=len(left)+len(right))\n",
    "    for c in left+right:\n",
    "        if c not in data:\n",
    "            print(f'Warning{c} not in {data.columns}')\n",
    "    # First axis\n",
    "    ax = data.loc[:, left].plot(label=left, color=colors[:len(left)],ax = ax)\n",
    "    ax.set_ylabel(ylabel=left)\n",
    "    lines, labels = ax.get_legend_handles_labels()\n",
    "\n",
    "    for n in range(len(right)):\n",
    "        # Multiple y-axes \n",
    "        if right[n] in data.columns:\n",
    "            \n",
    "            ax_new = ax.twinx()\n",
    "            ax_new.spines['right'].set_position(('axes', 1 + spacing * (n - 1)))\n",
    "            data.loc[:, right[n]].plot(ax=ax_new, label=right[n], color=colors[len(left)+n % len(colors)],)\n",
    "            ax_new.set_ylabel(ylabel=right[n])\n",
    "\n",
    "            # Proper legend position\n",
    "            line, label = ax_new.get_legend_handles_labels()\n",
    "            lines += line\n",
    "            labels += label\n",
    "\n",
    "    ax.legend(lines, labels, loc=0)\n",
    "    if title is not None: ax.set_title(title)\n",
    "    return ax"
   ]
  },
  {
   "cell_type": "code",
   "execution_count": null,
   "metadata": {},
   "outputs": [],
   "source": [
    "# export\n",
    "def to_elapsed(s):\n",
    "    return s.astype(np.int64) // 10 ** 9\n",
    "\n",
    "def remove_last(df,start, end, sz):\n",
    "    old_start = copy(start)\n",
    "    start = end - sz + pd.Timedelta(hours = 1)\n",
    "    return df[start:end], old_start, start\n",
    "    \n",
    "def get_not_interval(df, interval, shift = 1):\n",
    "    df[\"delta\"] = abs(\n",
    "        (to_elapsed(df[\"datetime\"]) - to_elapsed(df[\"datetime\"].shift(shift)))\n",
    "    )\n",
    "    #     df[\"delta\"] = df['delta'].dt.seconds\n",
    "    not_hour = df.index[df[\"delta\"] != interval].tolist()\n",
    "    del df[\"delta\"]\n",
    "    return not_hour\n",
    "    "
   ]
  },
  {
   "cell_type": "code",
   "execution_count": null,
   "metadata": {},
   "outputs": [],
   "source": [
    "# export\n",
    "def make_interval(\n",
    "    df: pd.DataFrame,\n",
    "    sz='96H',\n",
    "    interval=3600,\n",
    "    max_splits=35,\n",
    "    callback_error=None,\n",
    ") -> pd.DataFrame:\n",
    "    \"\"\"Will check if `df.datetime` has interval of `interval` in seconds. \n",
    "    \n",
    "    if not will make it happen and return a list where this is done.\n",
    "    \"\"\"\n",
    "    df.index = df.datetime\n",
    "    df = df.sort_index() \n",
    "    starts = get_not_interval(df, interval, 1)\n",
    "    ends = get_not_interval(df, interval, -1)\n",
    "    dfs = []\n",
    "    for start, end in zip(starts,ends):  \n",
    "        dt_range = pd.date_range(start,end,freq=sz)\n",
    "        dfs += [df.loc[i:i+pd.Timedelta(sz),:] for i in dt_range[:-1] ]   \n",
    "        if (end -dt_range[-1]).total_seconds()/3600 >3:\n",
    "            dfs += [df.loc[dt_range[-1]:end,:]]\n",
    "    return dfs"
   ]
  },
  {
   "cell_type": "code",
   "execution_count": null,
   "metadata": {},
   "outputs": [],
   "source": [
    "# TODO add tests"
   ]
  },
  {
   "cell_type": "code",
   "execution_count": null,
   "metadata": {},
   "outputs": [
    {
     "ename": "ModuleNotFoundError",
     "evalue": "No module named 'nbdev'",
     "output_type": "error",
     "traceback": [
      "\u001b[0;31m---------------------------------------------------------------------------\u001b[0m",
      "\u001b[0;31mModuleNotFoundError\u001b[0m                       Traceback (most recent call last)",
      "\u001b[0;32m<ipython-input-19-5004f907da3b>\u001b[0m in \u001b[0;36m<module>\u001b[0;34m\u001b[0m\n\u001b[1;32m      1\u001b[0m \u001b[0;31m#hide\u001b[0m\u001b[0;34m\u001b[0m\u001b[0;34m\u001b[0m\u001b[0;34m\u001b[0m\u001b[0m\n\u001b[0;32m----> 2\u001b[0;31m \u001b[0;32mfrom\u001b[0m \u001b[0mnbdev\u001b[0m\u001b[0;34m.\u001b[0m\u001b[0mexport\u001b[0m \u001b[0;32mimport\u001b[0m \u001b[0mnotebook2script\u001b[0m\u001b[0;34m\u001b[0m\u001b[0;34m\u001b[0m\u001b[0m\n\u001b[0m\u001b[1;32m      3\u001b[0m \u001b[0mnotebook2script\u001b[0m\u001b[0;34m(\u001b[0m\u001b[0;34m)\u001b[0m\u001b[0;34m\u001b[0m\u001b[0;34m\u001b[0m\u001b[0m\n",
      "\u001b[0;31mModuleNotFoundError\u001b[0m: No module named 'nbdev'"
     ]
    }
   ],
   "source": [
    "#hide\n",
    "from nbdev.export import notebook2script\n",
    "notebook2script()"
   ]
  },
  {
   "cell_type": "code",
   "execution_count": null,
   "metadata": {},
   "outputs": [],
   "source": []
  }
 ],
 "metadata": {
  "kernelspec": {
   "display_name": "seq_fastai",
   "language": "python",
   "name": "seq_fastai"
  }
 },
 "nbformat": 4,
 "nbformat_minor": 4
}
